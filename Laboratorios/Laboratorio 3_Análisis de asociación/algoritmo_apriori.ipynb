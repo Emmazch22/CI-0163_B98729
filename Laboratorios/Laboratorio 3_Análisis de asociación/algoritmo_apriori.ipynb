{
  "nbformat": 4,
  "nbformat_minor": 0,
  "metadata": {
    "colab": {
      "provenance": []
    },
    "kernelspec": {
      "name": "python3",
      "display_name": "Python 3"
    },
    "language_info": {
      "name": "python"
    }
  },
  "cells": [
    {
      "cell_type": "markdown",
      "source": [
        "# Laboratorio 3 - Análisis de Asociación"
      ],
      "metadata": {
        "id": "3fRn3PfUhpxn"
      }
    },
    {
      "cell_type": "markdown",
      "source": [
        "Estudiantes:\n",
        "- Derek Suarez - B97775\n",
        "- Emmanuel Zúñiga - B98729"
      ],
      "metadata": {
        "id": "9HpIFKorhtxJ"
      }
    },
    {
      "cell_type": "markdown",
      "source": [
        "## Algoritmo Apriori"
      ],
      "metadata": {
        "id": "hih6rPyOh_g7"
      }
    },
    {
      "cell_type": "markdown",
      "source": [
        "### Carga de librerias 📚"
      ],
      "metadata": {
        "id": "gypVQ15Tin-7"
      }
    },
    {
      "cell_type": "code",
      "execution_count": 11,
      "metadata": {
        "id": "Ld9JzOr8hkUJ"
      },
      "outputs": [],
      "source": [
        "import pandas as pd\n",
        "from itertools import combinations\n",
        "import requests\n",
        "import io"
      ]
    },
    {
      "cell_type": "markdown",
      "source": [
        "### Implementación del Algoritmo 🔢"
      ],
      "metadata": {
        "id": "YZ-YXOnziuHc"
      }
    },
    {
      "cell_type": "code",
      "source": [
        "def a_priori(tran_list, min_supp, k) -> None:\n",
        "  #Create support dict\n",
        "  itemset = {}\n",
        "  itemset_list = []\n",
        "  #Create list of unique items\n",
        "  for row in tran_list:\n",
        "    for element in row:\n",
        "      if element not in itemset_list:\n",
        "        itemset_list.append(element)\n",
        "  for i in range (0,k):\n",
        "    for row in tran_list:\n",
        "      items = list(combinations(itemset_list, i+1))\n",
        "      for pattern in items: \n",
        "        if all (x in row for x in pattern) == True:\n",
        "          if pattern not in itemset:\n",
        "            itemset[pattern] = 1\n",
        "          else:\n",
        "            itemset[pattern] += 1\n",
        "    itemset_pruned = itemset.copy()\n",
        "    #Pruning\n",
        "    for pattern in itemset:\n",
        "      if itemset[pattern] < min_supp:\n",
        "        itemset_pruned.pop(pattern)\n",
        "      if len(pattern) < i+1:\n",
        "        itemset_pruned.pop(pattern)\n",
        "    itemset = itemset_pruned.copy()\n",
        "    itemset_list = []\n",
        "    for pattern in itemset:\n",
        "      for element in pattern:\n",
        "        if element not in itemset_list:\n",
        "          itemset_list.append(element)\n",
        "  print(itemset)\n",
        "\n",
        "def test_support(tran_list, pattern, expected_count) -> None:\n",
        "  counter = 0\n",
        "  for row in tran_list:\n",
        "    if all (x in row for x in pattern) == True:\n",
        "      counter = counter+1\n",
        "  if (counter==expected_count):\n",
        "    print(\"Test passed\")\n",
        "  else:\n",
        "    print(\"Test failed\")\n",
        "    print(\"Counter: \", counter)\n",
        "\n",
        "\n",
        "## Dataset loading\n",
        "url = \"https://raw.githubusercontent.com/Emmazch22/CI-0163_B98729/main/Laboratorios/Laboratorio%203_Análisis%20de%20asociación/dataset/tran_df_clean.csv\"\n",
        "response = requests.get(url)\n",
        "content = response.content.decode('utf-8')\n",
        "\n",
        "\n",
        "transaction_df = pd.read_csv(io.StringIO(content))\n",
        "transaction_df = transaction_df.iloc[8000:9834]\n",
        "transaction_list = []\n",
        "for index, row in transaction_df.iterrows():\n",
        "  transaction_list.append(list(row.dropna()))\n",
        "\n",
        "# Testing\n",
        "print(len(transaction_list))\n",
        "a_priori(transaction_list, 40,3)\n",
        "test_support(transaction_list, ['Dell Desktop', 'iMac', 'HP Laptop'],46)"
      ],
      "metadata": {
        "colab": {
          "base_uri": "https://localhost:8080/"
        },
        "id": "9UTTkHVvitQ7",
        "outputId": "c7fc1864-0196-4ec9-a1d7-18f7b8949009"
      },
      "execution_count": 14,
      "outputs": [
        {
          "output_type": "stream",
          "name": "stdout",
          "text": [
            "1834\n",
            "{('iMac', 'HP Laptop', 'Lenovo Desktop Computer'): 44, ('Dell Desktop', 'iMac', 'HP Laptop'): 46}\n",
            "Test passed\n"
          ]
        }
      ]
    }
  ]
}